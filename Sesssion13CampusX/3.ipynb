{
 "cells": [
  {
   "cell_type": "code",
   "execution_count": 3,
   "id": "6b0589d3-5991-42e7-b6e9-6d99c6773851",
   "metadata": {},
   "outputs": [],
   "source": [
    "import numpy as np"
   ]
  },
  {
   "cell_type": "code",
   "execution_count": 3,
   "id": "c0ad38a2-370b-44b9-9733-5b519a086bf0",
   "metadata": {},
   "outputs": [],
   "source": [
    "a1 = np.array([1,2,3])"
   ]
  },
  {
   "cell_type": "markdown",
   "id": "28b66d43-870d-4d3a-9de8-62ac3e5be729",
   "metadata": {},
   "source": [
    "Changing Datatype"
   ]
  },
  {
   "cell_type": "code",
   "execution_count": 4,
   "id": "21c333ff-6488-4201-a300-597a610aef68",
   "metadata": {},
   "outputs": [
    {
     "data": {
      "text/plain": [
       "dtype('int64')"
      ]
     },
     "execution_count": 4,
     "metadata": {},
     "output_type": "execute_result"
    }
   ],
   "source": [
    "a1.dtype"
   ]
  },
  {
   "cell_type": "code",
   "execution_count": 6,
   "id": "3ca2dd99-a1d4-42fa-91f9-1fa09dee92db",
   "metadata": {},
   "outputs": [
    {
     "data": {
      "text/plain": [
       "array([1, 2, 3], dtype=int32)"
      ]
     },
     "execution_count": 6,
     "metadata": {},
     "output_type": "execute_result"
    }
   ],
   "source": [
    "a1.astype(np.int32)"
   ]
  },
  {
   "cell_type": "code",
   "execution_count": 7,
   "id": "ffc12131-5e6c-4c44-8be9-4f7aac08795c",
   "metadata": {},
   "outputs": [
    {
     "data": {
      "text/plain": [
       "dtype('int64')"
      ]
     },
     "execution_count": 7,
     "metadata": {},
     "output_type": "execute_result"
    }
   ],
   "source": [
    "a1.dtype"
   ]
  },
  {
   "cell_type": "markdown",
   "id": "596c16eb-27e6-43d5-abad-c3ab0d14f544",
   "metadata": {},
   "source": [
    "Array Operations"
   ]
  },
  {
   "cell_type": "code",
   "execution_count": 4,
   "id": "865260f7-89f2-4e08-acd0-e8ccc16b3b72",
   "metadata": {},
   "outputs": [],
   "source": [
    "a1 = np.arange(12).reshape(3,4)\n",
    "a2 = np.arange(12,24).reshape(3,4)"
   ]
  },
  {
   "cell_type": "code",
   "execution_count": 9,
   "id": "01f38ac8-c84e-4e08-8acd-9f1ac6363368",
   "metadata": {},
   "outputs": [],
   "source": [
    "#scalar operation\n",
    "\n",
    "# arithmetic\n",
    "\n",
    "a1 = a1 ** 2"
   ]
  },
  {
   "cell_type": "code",
   "execution_count": 10,
   "id": "c226cc57-62a7-488b-9bd4-e3d490124238",
   "metadata": {},
   "outputs": [
    {
     "name": "stdout",
     "output_type": "stream",
     "text": [
      "[[  0   1   4   9]\n",
      " [ 16  25  36  49]\n",
      " [ 64  81 100 121]]\n"
     ]
    }
   ],
   "source": [
    "print(a1)"
   ]
  },
  {
   "cell_type": "code",
   "execution_count": 13,
   "id": "eb3daed2-3ccd-44b2-a1f2-e95ce972d789",
   "metadata": {},
   "outputs": [
    {
     "data": {
      "text/plain": [
       "array([[False, False, False, False],\n",
       "       [ True,  True,  True,  True],\n",
       "       [ True,  True,  True,  True]])"
      ]
     },
     "execution_count": 13,
     "metadata": {},
     "output_type": "execute_result"
    }
   ],
   "source": [
    "# relational\n",
    "\n",
    "a2 > 5\n",
    "a2 > 15"
   ]
  },
  {
   "cell_type": "code",
   "execution_count": 16,
   "id": "96fa0707-a1d3-482c-b37e-6e666a3e3871",
   "metadata": {},
   "outputs": [
    {
     "data": {
      "text/plain": [
       "array([[ 12,  14,  18,  24],\n",
       "       [ 32,  42,  54,  68],\n",
       "       [ 84, 102, 122, 144]])"
      ]
     },
     "execution_count": 16,
     "metadata": {},
     "output_type": "execute_result"
    }
   ],
   "source": [
    "# vector operations\n",
    "\n",
    "# arithmetic\n",
    "\n",
    "a1 + a2"
   ]
  },
  {
   "cell_type": "code",
   "execution_count": 17,
   "id": "6943751e-22b4-4a18-8041-526c9217c196",
   "metadata": {},
   "outputs": [
    {
     "data": {
      "text/plain": [
       "array([[-24, -25, -24, -21],\n",
       "       [-16,  -9,   0,  11],\n",
       "       [ 24,  39,  56,  75]])"
      ]
     },
     "execution_count": 17,
     "metadata": {},
     "output_type": "execute_result"
    }
   ],
   "source": [
    "a1 - 2 * a2"
   ]
  },
  {
   "cell_type": "markdown",
   "id": "0a249e5e-b6e6-444b-8745-d6ddcf163af9",
   "metadata": {},
   "source": [
    "Array Functions"
   ]
  },
  {
   "cell_type": "code",
   "execution_count": 18,
   "id": "cf31439d-78e7-48f0-ac5b-36b73e47d823",
   "metadata": {},
   "outputs": [
    {
     "data": {
      "text/plain": [
       "array([[15., 16., 94.],\n",
       "       [ 1., 67., 25.],\n",
       "       [39., 23., 16.]])"
      ]
     },
     "execution_count": 18,
     "metadata": {},
     "output_type": "execute_result"
    }
   ],
   "source": [
    "a1 = np.random.random((3,3))\n",
    "a1 = np.round(a1 * 100)\n",
    "a1"
   ]
  },
  {
   "cell_type": "code",
   "execution_count": 28,
   "id": "63a9fbd0-d563-4fbc-9452-408c242c9f97",
   "metadata": {},
   "outputs": [
    {
     "data": {
      "text/plain": [
       "array([  585., 24656., 37600.])"
      ]
     },
     "execution_count": 28,
     "metadata": {},
     "output_type": "execute_result"
    }
   ],
   "source": [
    "# max / min / sum / product\n",
    "\n",
    "np.max(a1)\n",
    "np.min(a1)\n",
    "np.sum(a1)\n",
    "np.prod(a1)\n",
    "\n",
    "# accessing max / min from each and every row / col \n",
    "# using axis = 1 (row - x axis) axis = 0 (col - y axis)\n",
    "np.max(a1,axis=1)\n",
    "np.max(a1,axis=0)\n",
    "\n",
    "# row / col wise prod / sum using axis\n",
    "np.prod(a1,axis=0)"
   ]
  },
  {
   "cell_type": "code",
   "execution_count": 9,
   "id": "55f50c8d-3e67-4d55-adc0-fe467230510c",
   "metadata": {},
   "outputs": [
    {
     "data": {
      "text/plain": [
       "np.float64(3.452052529534663)"
      ]
     },
     "execution_count": 9,
     "metadata": {},
     "output_type": "execute_result"
    }
   ],
   "source": [
    "# mean / median / std / var\n",
    "np.mean(a1,axis=1)\n",
    "np.median(a1)\n",
    "np.var(a1) # variance\n",
    "np.std(a1)\n"
   ]
  },
  {
   "cell_type": "code",
   "execution_count": 12,
   "id": "d48af3aa-0829-4595-bceb-66a37410ca83",
   "metadata": {},
   "outputs": [
    {
     "data": {
      "text/plain": [
       "array([[ 0.00000000e+00,  1.55740772e+00, -2.18503986e+00,\n",
       "        -1.42546543e-01],\n",
       "       [ 1.15782128e+00, -3.38051501e+00, -2.91006191e-01,\n",
       "         8.71447983e-01],\n",
       "       [-6.79971146e+00, -4.52315659e-01,  6.48360827e-01,\n",
       "        -2.25950846e+02]])"
      ]
     },
     "execution_count": 12,
     "metadata": {},
     "output_type": "execute_result"
    }
   ],
   "source": [
    "# trigonometric functions\n",
    "\n",
    "np.sin(a1)\n",
    "np.cos(a1)\n",
    "np.tan(a1)"
   ]
  },
  {
   "cell_type": "code",
   "execution_count": 13,
   "id": "f21c94e7-a60b-4057-9a31-70665f9514ae",
   "metadata": {},
   "outputs": [
    {
     "data": {
      "text/plain": [
       "array([[114, 120, 126],\n",
       "       [378, 400, 422],\n",
       "       [642, 680, 718]])"
      ]
     },
     "execution_count": 13,
     "metadata": {},
     "output_type": "execute_result"
    }
   ],
   "source": [
    "# dot product\n",
    "\n",
    "a2 = np.arange(12).reshape(3,4)\n",
    "a3 = np.arange(12,24).reshape(4,3)\n",
    "\n",
    "np.dot(a2,a3)"
   ]
  },
  {
   "cell_type": "code",
   "execution_count": 15,
   "id": "14e86a6c-72ad-4753-b972-2ed82b305c1d",
   "metadata": {},
   "outputs": [
    {
     "name": "stdout",
     "output_type": "stream",
     "text": [
      "[[1 2 3]\n",
      " [4 5 6]\n",
      " [7 8 9]]\n"
     ]
    }
   ],
   "source": [
    "a = np.array([1,2,3,4,5,6,7,8,9]).reshape(3,3)\n",
    "print(a)"
   ]
  },
  {
   "cell_type": "code",
   "execution_count": 18,
   "id": "eedd2e75-0809-47e6-aad0-a18de14afe6c",
   "metadata": {},
   "outputs": [
    {
     "data": {
      "text/plain": [
       "array([0.        , 0.69314718])"
      ]
     },
     "execution_count": 18,
     "metadata": {},
     "output_type": "execute_result"
    }
   ],
   "source": [
    "# log and exponents\n",
    "a1 = np.array([1,2])\n",
    "np.exp(a1)\n",
    "np.log(a1)"
   ]
  },
  {
   "cell_type": "code",
   "execution_count": 22,
   "id": "631f5107-5614-4236-a17b-e5b47a071eda",
   "metadata": {},
   "outputs": [
    {
     "data": {
      "text/plain": [
       "array([[48., 15., 46.],\n",
       "       [67., 47., 16.]])"
      ]
     },
     "execution_count": 22,
     "metadata": {},
     "output_type": "execute_result"
    }
   ],
   "source": [
    "# round/floor/ceil\n",
    "\n",
    "np.round(np.random.random((2,3)) * 100)\n",
    "np.floor(np.random.random((2,3)) * 100)\n",
    "np.ceil(np.random.random((2,3)) * 100)"
   ]
  },
  {
   "cell_type": "code",
   "execution_count": null,
   "id": "673b71b6-80ef-4882-aaad-af5ecbd8fca1",
   "metadata": {},
   "outputs": [],
   "source": []
  }
 ],
 "metadata": {
  "kernelspec": {
   "display_name": "Python 3 (ipykernel)",
   "language": "python",
   "name": "python3"
  },
  "language_info": {
   "codemirror_mode": {
    "name": "ipython",
    "version": 3
   },
   "file_extension": ".py",
   "mimetype": "text/x-python",
   "name": "python",
   "nbconvert_exporter": "python",
   "pygments_lexer": "ipython3",
   "version": "3.13.1"
  }
 },
 "nbformat": 4,
 "nbformat_minor": 5
}
