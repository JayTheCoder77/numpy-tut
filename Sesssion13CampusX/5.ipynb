{
 "cells": [
  {
   "cell_type": "code",
   "execution_count": 1,
   "id": "3b839026-88c1-43d8-82e0-88d2112332a3",
   "metadata": {},
   "outputs": [],
   "source": [
    "import numpy as np"
   ]
  },
  {
   "cell_type": "markdown",
   "id": "9a6756e2-35da-4d36-b610-4d5f6d45d56d",
   "metadata": {},
   "source": [
    "Iterating on numpy Arrays"
   ]
  },
  {
   "cell_type": "code",
   "execution_count": 6,
   "id": "d46b2d28-362d-4994-b253-2ad3acaea907",
   "metadata": {},
   "outputs": [
    {
     "data": {
      "text/plain": [
       "array([[[ 0,  1,  2],\n",
       "        [ 3,  4,  5],\n",
       "        [ 6,  7,  8]],\n",
       "\n",
       "       [[ 9, 10, 11],\n",
       "        [12, 13, 14],\n",
       "        [15, 16, 17]],\n",
       "\n",
       "       [[18, 19, 20],\n",
       "        [21, 22, 23],\n",
       "        [24, 25, 26]]])"
      ]
     },
     "execution_count": 6,
     "metadata": {},
     "output_type": "execute_result"
    }
   ],
   "source": [
    "a1 = np.arange(10)\n",
    "a2 = np.arange(12).reshape(4,3)\n",
    "a3 = np.arange(27).reshape(3,3,3)\n",
    "\n",
    "a3"
   ]
  },
  {
   "cell_type": "code",
   "execution_count": 13,
   "id": "db873adc-ee24-46af-b164-5565fdeff408",
   "metadata": {},
   "outputs": [
    {
     "name": "stdout",
     "output_type": "stream",
     "text": [
      "0 1 2 3 4 5 6 7 8 9 "
     ]
    }
   ],
   "source": [
    "# 1d array loop\n",
    "for i in a1 : \n",
    "    print(i,end=\" \")"
   ]
  },
  {
   "cell_type": "code",
   "execution_count": 14,
   "id": "1775215d-fa7f-4a0e-96b5-1e71d87f2a89",
   "metadata": {},
   "outputs": [
    {
     "name": "stdout",
     "output_type": "stream",
     "text": [
      "[0 1 2] [3 4 5] [6 7 8] [ 9 10 11] "
     ]
    }
   ],
   "source": [
    "# 2d array loop\n",
    "for i in a2:\n",
    "    print(i,end=\" \")"
   ]
  },
  {
   "cell_type": "code",
   "execution_count": 15,
   "id": "54a6c2b9-99f6-452c-bfef-2ba939b88bc1",
   "metadata": {},
   "outputs": [
    {
     "name": "stdout",
     "output_type": "stream",
     "text": [
      "[[0 1 2]\n",
      " [3 4 5]\n",
      " [6 7 8]] [[ 9 10 11]\n",
      " [12 13 14]\n",
      " [15 16 17]] [[18 19 20]\n",
      " [21 22 23]\n",
      " [24 25 26]] "
     ]
    }
   ],
   "source": [
    "# 3d array loop\n",
    "for i in a3:\n",
    "   print(i,end=\" \")"
   ]
  },
  {
   "cell_type": "code",
   "execution_count": 16,
   "id": "16c0bd37-8528-4785-b620-2a6a073f3de2",
   "metadata": {},
   "outputs": [
    {
     "name": "stdout",
     "output_type": "stream",
     "text": [
      "0 1 2 3 4 5 6 7 8 9 "
     ]
    }
   ],
   "source": [
    "# 1d array individual\n",
    "for i in np.nditer(a1):\n",
    "   print(i,end=\" \")"
   ]
  },
  {
   "cell_type": "code",
   "execution_count": 17,
   "id": "eb658150-85d6-48de-a07e-906115e7ab88",
   "metadata": {},
   "outputs": [
    {
     "name": "stdout",
     "output_type": "stream",
     "text": [
      "0 1 2 3 4 5 6 7 8 9 10 11 "
     ]
    }
   ],
   "source": [
    "# 2d array individual\n",
    "for i in np.nditer(a2):\n",
    "    print(i,end=\" \")"
   ]
  },
  {
   "cell_type": "code",
   "execution_count": 18,
   "id": "9efa3868-4283-47c5-9edd-0c12e7af9602",
   "metadata": {},
   "outputs": [
    {
     "name": "stdout",
     "output_type": "stream",
     "text": [
      "0 1 2 3 4 5 6 7 8 9 10 11 12 13 14 15 16 17 18 19 20 21 22 23 24 25 26 "
     ]
    }
   ],
   "source": [
    "# 3d array individual\n",
    "for i in np.nditer(a3):\n",
    "    print(i,end=\" \")"
   ]
  },
  {
   "cell_type": "markdown",
   "id": "bb3934fc-115e-4cdf-9162-adadf5b174aa",
   "metadata": {},
   "source": [
    "RESHAPING"
   ]
  },
  {
   "cell_type": "code",
   "execution_count": 19,
   "id": "29f31fcd-a44d-444b-8fa8-df2787f33248",
   "metadata": {},
   "outputs": [
    {
     "data": {
      "text/plain": [
       "array([[ 0,  1,  2],\n",
       "       [ 3,  4,  5],\n",
       "       [ 6,  7,  8],\n",
       "       [ 9, 10, 11]])"
      ]
     },
     "execution_count": 19,
     "metadata": {},
     "output_type": "execute_result"
    }
   ],
   "source": [
    "# reshape  , transpose , ravel\n",
    "a2"
   ]
  },
  {
   "cell_type": "code",
   "execution_count": 21,
   "id": "8f7e12b4-64d7-4e48-ae29-6f6db6b456c6",
   "metadata": {},
   "outputs": [
    {
     "data": {
      "text/plain": [
       "array([[ 0,  3,  6,  9],\n",
       "       [ 1,  4,  7, 10],\n",
       "       [ 2,  5,  8, 11]])"
      ]
     },
     "execution_count": 21,
     "metadata": {},
     "output_type": "execute_result"
    }
   ],
   "source": [
    "np.transpose(a2)\n",
    "\n",
    "# shortcut\n",
    "\n",
    "a2.T"
   ]
  },
  {
   "cell_type": "markdown",
   "id": "e7a30312-2b78-4361-9386-19578382a26b",
   "metadata": {},
   "source": [
    "ravel converts any multi dimensional array to 1d"
   ]
  },
  {
   "cell_type": "code",
   "execution_count": 22,
   "id": "d2781ac7-0a8e-4e7b-bc97-c8a9490552f5",
   "metadata": {},
   "outputs": [
    {
     "data": {
      "text/plain": [
       "array([ 0,  1,  2,  3,  4,  5,  6,  7,  8,  9, 10, 11, 12, 13, 14, 15, 16,\n",
       "       17, 18, 19, 20, 21, 22, 23, 24, 25, 26])"
      ]
     },
     "execution_count": 22,
     "metadata": {},
     "output_type": "execute_result"
    }
   ],
   "source": [
    "a3.ravel()"
   ]
  },
  {
   "cell_type": "markdown",
   "id": "023fdf00-07f0-40aa-8a5c-18444f3416b8",
   "metadata": {},
   "source": [
    "STACKING - SHAPE SHOULD BE SAME TO ACHIEVE STACKING"
   ]
  },
  {
   "cell_type": "code",
   "execution_count": 23,
   "id": "7bb33992-8890-46a7-b566-c962796a60dd",
   "metadata": {},
   "outputs": [
    {
     "data": {
      "text/plain": [
       "array([[ 0,  1,  2,  3, 12, 13, 14, 15],\n",
       "       [ 4,  5,  6,  7, 16, 17, 18, 19],\n",
       "       [ 8,  9, 10, 11, 20, 21, 22, 23]])"
      ]
     },
     "execution_count": 23,
     "metadata": {},
     "output_type": "execute_result"
    }
   ],
   "source": [
    "# HORIZONTAL STACKING \n",
    "\n",
    "# eg a1 = 3 x 4     a2 = 3 x 4.          a1 and a2 horizontal stack  = 3 X 8\n",
    "a4 = np.arange(12).reshape(3,4)\n",
    "a5 = np.arange(12,24).reshape(3,4)\n",
    "\n",
    "np.hstack((a4,a5))"
   ]
  },
  {
   "cell_type": "code",
   "execution_count": 24,
   "id": "a48a6598-a8d6-4f4c-bc8f-8bb4ee13b954",
   "metadata": {},
   "outputs": [
    {
     "data": {
      "text/plain": [
       "array([[ 0,  1,  2,  3],\n",
       "       [ 4,  5,  6,  7],\n",
       "       [ 8,  9, 10, 11],\n",
       "       [12, 13, 14, 15],\n",
       "       [16, 17, 18, 19],\n",
       "       [20, 21, 22, 23]])"
      ]
     },
     "execution_count": 24,
     "metadata": {},
     "output_type": "execute_result"
    }
   ],
   "source": [
    "# VERTICAL STACKING \n",
    "\n",
    "# eg a1 = 3 x 4     a2 = 3 x 4.          a1 and a2 vertical stack  = 6 X 4\n",
    "\n",
    "a6 = np.arange(12).reshape(3,4)\n",
    "a7 = np.arange(12,24).reshape(3,4)\n",
    "\n",
    "np.vstack((a6,a7))"
   ]
  },
  {
   "cell_type": "markdown",
   "id": "8273b439-3e88-464e-9369-30f92287cac8",
   "metadata": {},
   "source": [
    "SPLITTING"
   ]
  },
  {
   "cell_type": "code",
   "execution_count": 25,
   "id": "db43d21d-2ef0-4866-a27b-c9c760520dc4",
   "metadata": {},
   "outputs": [
    {
     "data": {
      "text/plain": [
       "array([[ 0,  1,  2,  3],\n",
       "       [ 4,  5,  6,  7],\n",
       "       [ 8,  9, 10, 11]])"
      ]
     },
     "execution_count": 25,
     "metadata": {},
     "output_type": "execute_result"
    }
   ],
   "source": [
    "# horizontal split\n",
    "\n",
    "a4"
   ]
  },
  {
   "cell_type": "code",
   "execution_count": 26,
   "id": "8cfc3dc3-dfc8-4dff-a0e3-be32c2902225",
   "metadata": {},
   "outputs": [
    {
     "data": {
      "text/plain": [
       "[array([[0, 1],\n",
       "        [4, 5],\n",
       "        [8, 9]]),\n",
       " array([[ 2,  3],\n",
       "        [ 6,  7],\n",
       "        [10, 11]])]"
      ]
     },
     "execution_count": 26,
     "metadata": {},
     "output_type": "execute_result"
    }
   ],
   "source": [
    "np.hsplit(a4,2)"
   ]
  },
  {
   "cell_type": "code",
   "execution_count": 31,
   "id": "a585878d-febf-46bd-b03f-267e16b0617d",
   "metadata": {},
   "outputs": [],
   "source": [
    "# np.hsplit(a4,3) not possible as equal divison is required"
   ]
  },
  {
   "cell_type": "code",
   "execution_count": 32,
   "id": "fdb9ed38-64fe-476e-9020-91e12a9d496c",
   "metadata": {},
   "outputs": [],
   "source": [
    "# vertical splitting"
   ]
  },
  {
   "cell_type": "code",
   "execution_count": 33,
   "id": "503cc2c5-d3ad-4cda-b6c3-24e149760b39",
   "metadata": {},
   "outputs": [
    {
     "data": {
      "text/plain": [
       "array([[12, 13, 14, 15],\n",
       "       [16, 17, 18, 19],\n",
       "       [20, 21, 22, 23]])"
      ]
     },
     "execution_count": 33,
     "metadata": {},
     "output_type": "execute_result"
    }
   ],
   "source": [
    "a5"
   ]
  },
  {
   "cell_type": "code",
   "execution_count": 35,
   "id": "cba730d3-93ed-410a-a48e-2a2ef292ec90",
   "metadata": {},
   "outputs": [
    {
     "data": {
      "text/plain": [
       "[array([[12, 13, 14, 15]]),\n",
       " array([[16, 17, 18, 19]]),\n",
       " array([[20, 21, 22, 23]])]"
      ]
     },
     "execution_count": 35,
     "metadata": {},
     "output_type": "execute_result"
    }
   ],
   "source": [
    "np.vsplit(a5,3)"
   ]
  },
  {
   "cell_type": "code",
   "execution_count": null,
   "id": "a09f5b70-fef1-4106-8f02-21fc50f363e0",
   "metadata": {},
   "outputs": [],
   "source": []
  }
 ],
 "metadata": {
  "kernelspec": {
   "display_name": "Python 3 (ipykernel)",
   "language": "python",
   "name": "python3"
  },
  "language_info": {
   "codemirror_mode": {
    "name": "ipython",
    "version": 3
   },
   "file_extension": ".py",
   "mimetype": "text/x-python",
   "name": "python",
   "nbconvert_exporter": "python",
   "pygments_lexer": "ipython3",
   "version": "3.13.1"
  }
 },
 "nbformat": 4,
 "nbformat_minor": 5
}
