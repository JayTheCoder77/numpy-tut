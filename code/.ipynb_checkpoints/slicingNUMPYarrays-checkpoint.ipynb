{
 "cells": [
  {
   "cell_type": "code",
   "execution_count": 3,
   "id": "a222d633-f545-486a-aefa-4c9f1a6f31c2",
   "metadata": {},
   "outputs": [],
   "source": [
    "import numpy as np"
   ]
  },
  {
   "cell_type": "markdown",
   "id": "5de6a6e8-bd17-479b-89fd-a951bb5428a6",
   "metadata": {},
   "source": [
    "SLICING NUMPY ARRAYS"
   ]
  },
  {
   "cell_type": "code",
   "execution_count": 4,
   "id": "aed2a7d4-19de-4e0f-9c45-d4d3c1cf8158",
   "metadata": {},
   "outputs": [
    {
     "name": "stdout",
     "output_type": "stream",
     "text": [
      "[2 3 4 5]\n"
     ]
    }
   ],
   "source": [
    "np1 = np.array([1,2,3,4,5,6,7,8,9])\n",
    "\n",
    "# return 2 3 4 5\n",
    "print(np1[1:5])"
   ]
  },
  {
   "cell_type": "markdown",
   "id": "8498f747-d7dc-41bb-9794-1120afbacad8",
   "metadata": {},
   "source": [
    "return from something till end of array"
   ]
  },
  {
   "cell_type": "code",
   "execution_count": 5,
   "id": "f64072e0-68cc-4879-8cbf-3d9cf32ff4f6",
   "metadata": {},
   "outputs": [
    {
     "name": "stdout",
     "output_type": "stream",
     "text": [
      "[4 5 6 7 8 9]\n"
     ]
    }
   ],
   "source": [
    "print(np1[3:])"
   ]
  },
  {
   "cell_type": "markdown",
   "id": "73031a9b-9a1b-4687-a7a8-649fe11402d4",
   "metadata": {},
   "source": [
    "return negative slices"
   ]
  },
  {
   "cell_type": "code",
   "execution_count": 6,
   "id": "b43c4b3c-99ee-47db-939b-8eb2a18deaa8",
   "metadata": {},
   "outputs": [
    {
     "name": "stdout",
     "output_type": "stream",
     "text": [
      "[7 8]\n"
     ]
    }
   ],
   "source": [
    "print(np1[-3:-1])"
   ]
  },
  {
   "cell_type": "markdown",
   "id": "67081790-5a3c-49b2-a11f-e439079001c8",
   "metadata": {},
   "source": [
    "steps\n"
   ]
  },
  {
   "cell_type": "code",
   "execution_count": 7,
   "id": "3bebaaf1-b50f-45bd-a912-78668e509009",
   "metadata": {},
   "outputs": [
    {
     "name": "stdout",
     "output_type": "stream",
     "text": [
      "[2 4]\n"
     ]
    }
   ],
   "source": [
    "print(np1[1:5:2])"
   ]
  },
  {
   "cell_type": "markdown",
   "id": "e2085c26-cc28-4800-8fde-edfbdeb11215",
   "metadata": {},
   "source": [
    "steps on entire array"
   ]
  },
  {
   "cell_type": "code",
   "execution_count": 8,
   "id": "c526a32d-8219-49f2-94cd-027ac1a069c0",
   "metadata": {},
   "outputs": [
    {
     "name": "stdout",
     "output_type": "stream",
     "text": [
      "[1 3 5 7 9]\n"
     ]
    }
   ],
   "source": [
    "print(np1[::2])"
   ]
  },
  {
   "cell_type": "markdown",
   "id": "eabe7488-cd84-4de9-ba4a-807015df0135",
   "metadata": {},
   "source": [
    "slice 2-d array"
   ]
  },
  {
   "cell_type": "code",
   "execution_count": 10,
   "id": "cb7e0228-6e01-49f3-8001-5125a708c775",
   "metadata": {},
   "outputs": [],
   "source": [
    "np2 = np.array([[1,2,3,4,5],[6,7,8,9,10]])"
   ]
  },
  {
   "cell_type": "markdown",
   "id": "a7032c9c-7c9f-4a04-8f61-41b0df4bc6b9",
   "metadata": {},
   "source": [
    "pull out single item"
   ]
  },
  {
   "cell_type": "code",
   "execution_count": 11,
   "id": "c5775b7f-a3da-47fe-812a-6d1923a2689e",
   "metadata": {},
   "outputs": [
    {
     "name": "stdout",
     "output_type": "stream",
     "text": [
      "8\n"
     ]
    }
   ],
   "source": [
    "print(np2[1,2])"
   ]
  },
  {
   "cell_type": "code",
   "execution_count": 12,
   "id": "46b928af-c941-4eb8-a822-5d8b72f6694f",
   "metadata": {},
   "outputs": [
    {
     "name": "stdout",
     "output_type": "stream",
     "text": [
      "[[2 3]]\n"
     ]
    }
   ],
   "source": [
    "print(np2[0:1,1:3])"
   ]
  },
  {
   "cell_type": "markdown",
   "id": "57d9f07e-ee10-48be-b2af-487d639935d5",
   "metadata": {},
   "source": [
    "include both this time\n",
    "\n"
   ]
  },
  {
   "cell_type": "code",
   "execution_count": 13,
   "id": "523466d4-09c0-4a4f-a206-3d1292735d38",
   "metadata": {},
   "outputs": [
    {
     "name": "stdout",
     "output_type": "stream",
     "text": [
      "[[2 3]\n",
      " [7 8]]\n"
     ]
    }
   ],
   "source": [
    "print(np2[0:2,1:3])"
   ]
  },
  {
   "cell_type": "code",
   "execution_count": null,
   "id": "0060d1f6-649b-4e34-8a80-82249c675b2a",
   "metadata": {},
   "outputs": [],
   "source": []
  }
 ],
 "metadata": {
  "kernelspec": {
   "display_name": "Python 3 (ipykernel)",
   "language": "python",
   "name": "python3"
  },
  "language_info": {
   "codemirror_mode": {
    "name": "ipython",
    "version": 3
   },
   "file_extension": ".py",
   "mimetype": "text/x-python",
   "name": "python",
   "nbconvert_exporter": "python",
   "pygments_lexer": "ipython3",
   "version": "3.13.1"
  }
 },
 "nbformat": 4,
 "nbformat_minor": 5
}
