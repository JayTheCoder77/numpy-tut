{
 "cells": [
  {
   "cell_type": "code",
   "execution_count": 1,
   "id": "30a94435-d84f-4623-9443-e41d9ad5d3f3",
   "metadata": {},
   "outputs": [],
   "source": [
    "import numpy as np"
   ]
  },
  {
   "cell_type": "markdown",
   "id": "dd2d97c1-da75-4118-8c05-4e9914c57a06",
   "metadata": {},
   "source": [
    "filter numpy arrays with boolean index lists"
   ]
  },
  {
   "cell_type": "code",
   "execution_count": 2,
   "id": "49c1befe-934c-4ed6-b0ca-38a2866eb394",
   "metadata": {},
   "outputs": [],
   "source": [
    "np1 = np.array([1,2,3,4,5,6,7,8,9,10])\n"
   ]
  },
  {
   "cell_type": "code",
   "execution_count": 3,
   "id": "b7f09db6-b359-4241-9123-76c148308f3e",
   "metadata": {},
   "outputs": [],
   "source": [
    "x = [True,True,False,False,False,False,False,False,False,False]"
   ]
  },
  {
   "cell_type": "code",
   "execution_count": 4,
   "id": "5c77bd87-1ed1-4d04-ab91-68598bcd7cbc",
   "metadata": {},
   "outputs": [
    {
     "name": "stdout",
     "output_type": "stream",
     "text": [
      "[ 1  2  3  4  5  6  7  8  9 10]\n",
      "[1 2]\n"
     ]
    }
   ],
   "source": [
    "print(np1)\n",
    "print(np1[x])"
   ]
  },
  {
   "cell_type": "code",
   "execution_count": 6,
   "id": "752cb61d-a658-4fe4-b8df-83e90091702c",
   "metadata": {},
   "outputs": [],
   "source": [
    "filtered = []\n",
    "for n in np1:\n",
    "    if n % 2 == 0:\n",
    "        filtered.append(True)\n",
    "    else:\n",
    "        filtered.append(False)"
   ]
  },
  {
   "cell_type": "code",
   "execution_count": 7,
   "id": "3a63d346-bc12-4fdd-9f60-87d1692c5d82",
   "metadata": {},
   "outputs": [
    {
     "name": "stdout",
     "output_type": "stream",
     "text": [
      "[ 1  2  3  4  5  6  7  8  9 10]\n",
      "[False, True, False, True, False, True, False, True, False, True]\n",
      "[ 2  4  6  8 10]\n"
     ]
    }
   ],
   "source": [
    "print(np1)\n",
    "print(filtered)\n",
    "new = np1[filtered]\n",
    "print(new)"
   ]
  },
  {
   "cell_type": "markdown",
   "id": "31240d6f-558d-47fb-9bcd-00fc936fead8",
   "metadata": {},
   "source": [
    "built in shortcut for filtering"
   ]
  },
  {
   "cell_type": "code",
   "execution_count": 8,
   "id": "a589f898-ee7a-4056-806a-44926c63b283",
   "metadata": {},
   "outputs": [
    {
     "name": "stdout",
     "output_type": "stream",
     "text": [
      "[ 1  2  3  4  5  6  7  8  9 10]\n",
      "[False  True False  True False  True False  True False  True]\n",
      "[ 2  4  6  8 10]\n"
     ]
    }
   ],
   "source": [
    "filtered = np1 % 2 == 0\n",
    "print(np1)\n",
    "print(filtered)\n",
    "print(np1[filtered])"
   ]
  },
  {
   "cell_type": "code",
   "execution_count": null,
   "id": "9c1a28b7-c5bd-4542-acb5-94602278a56a",
   "metadata": {},
   "outputs": [],
   "source": []
  }
 ],
 "metadata": {
  "kernelspec": {
   "display_name": "Python 3 (ipykernel)",
   "language": "python",
   "name": "python3"
  },
  "language_info": {
   "codemirror_mode": {
    "name": "ipython",
    "version": 3
   },
   "file_extension": ".py",
   "mimetype": "text/x-python",
   "name": "python",
   "nbconvert_exporter": "python",
   "pygments_lexer": "ipython3",
   "version": "3.13.1"
  }
 },
 "nbformat": 4,
 "nbformat_minor": 5
}
