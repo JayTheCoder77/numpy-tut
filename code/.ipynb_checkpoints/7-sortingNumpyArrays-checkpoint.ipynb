{
 "cells": [
  {
   "cell_type": "code",
   "execution_count": 1,
   "id": "bb2b85b2-2965-40c4-aab4-7cd1943f764f",
   "metadata": {},
   "outputs": [],
   "source": [
    "import numpy as np"
   ]
  },
  {
   "cell_type": "markdown",
   "id": "e5bc4924-781f-4303-8548-7474ac9f677b",
   "metadata": {},
   "source": [
    "sorting numpy arrays numerical\n"
   ]
  },
  {
   "cell_type": "code",
   "execution_count": 2,
   "id": "ba624347-3b76-45df-af06-96b3ce0992fb",
   "metadata": {},
   "outputs": [],
   "source": [
    "np1 = np.array([4,436,35,254,24,24,2,5,3,1,2,53,63,46,24,14])"
   ]
  },
  {
   "cell_type": "code",
   "execution_count": 3,
   "id": "d4be7d39-d8fc-4fc8-a7e0-134b780e8358",
   "metadata": {},
   "outputs": [
    {
     "name": "stdout",
     "output_type": "stream",
     "text": [
      "[  1   2   2   3   4   5  14  24  24  24  35  46  53  63 254 436]\n"
     ]
    }
   ],
   "source": [
    "print(np.sort(np1))"
   ]
  },
  {
   "cell_type": "markdown",
   "id": "7cbf2278-8297-4e07-91a5-4be991af1967",
   "metadata": {},
   "source": [
    "sorting alphabetical arrays"
   ]
  },
  {
   "cell_type": "code",
   "execution_count": 4,
   "id": "d90f9044-a51c-4f86-abc5-ea623b6d7134",
   "metadata": {},
   "outputs": [],
   "source": [
    "np2 = np.array([\"john\",\"dutch\",\"arthur\",\"hosea\"])"
   ]
  },
  {
   "cell_type": "code",
   "execution_count": 5,
   "id": "887ee38b-87a0-4fc8-859e-c3223f4fd6b2",
   "metadata": {},
   "outputs": [
    {
     "name": "stdout",
     "output_type": "stream",
     "text": [
      "['john' 'dutch' 'arthur' 'hosea']\n"
     ]
    }
   ],
   "source": [
    "print(np2)"
   ]
  },
  {
   "cell_type": "code",
   "execution_count": 6,
   "id": "6470dd34-0d15-4c6c-ba79-177e6f3f762a",
   "metadata": {},
   "outputs": [
    {
     "name": "stdout",
     "output_type": "stream",
     "text": [
      "['arthur' 'dutch' 'hosea' 'john']\n"
     ]
    }
   ],
   "source": [
    "print(np.sort(np2))"
   ]
  },
  {
   "cell_type": "markdown",
   "id": "d7041158-cca8-41c1-84bc-a94db17f5a59",
   "metadata": {},
   "source": [
    "booleans"
   ]
  },
  {
   "cell_type": "code",
   "execution_count": 7,
   "id": "a4833959-0a73-43f6-a32e-e9020e945068",
   "metadata": {},
   "outputs": [],
   "source": [
    "np4 = np.array([\"True\",\"False\",\"True\"])"
   ]
  },
  {
   "cell_type": "code",
   "execution_count": 8,
   "id": "00099d6e-4450-4c51-b1b0-d9aef6dd2442",
   "metadata": {},
   "outputs": [
    {
     "name": "stdout",
     "output_type": "stream",
     "text": [
      "['True' 'False' 'True']\n"
     ]
    }
   ],
   "source": [
    "print(np4)"
   ]
  },
  {
   "cell_type": "code",
   "execution_count": 9,
   "id": "8adfa54f-8533-424b-8199-aa16b591585b",
   "metadata": {},
   "outputs": [
    {
     "name": "stdout",
     "output_type": "stream",
     "text": [
      "['False' 'True' 'True']\n"
     ]
    }
   ],
   "source": [
    "print(np.sort(np4))"
   ]
  },
  {
   "cell_type": "code",
   "execution_count": 10,
   "id": "9d9f2836-c7fd-4b7d-aa38-0e678e931926",
   "metadata": {},
   "outputs": [
    {
     "name": "stdout",
     "output_type": "stream",
     "text": [
      "['True' 'False' 'True']\n"
     ]
    }
   ],
   "source": [
    "print(np4)"
   ]
  },
  {
   "cell_type": "markdown",
   "id": "a7d3ea4a-f2dc-4e75-8845-5a4a3cee3f8a",
   "metadata": {},
   "source": [
    "we dont change the og array we just return copy\n"
   ]
  },
  {
   "cell_type": "markdown",
   "id": "6880a1ee-27a0-44e2-9133-6617e76b78b8",
   "metadata": {},
   "source": [
    "2d array sorting"
   ]
  },
  {
   "cell_type": "code",
   "execution_count": 12,
   "id": "3d47f718-1de6-438c-94af-816f71e2e360",
   "metadata": {},
   "outputs": [
    {
     "name": "stdout",
     "output_type": "stream",
     "text": [
      "[[4 5 1]\n",
      " [9 7 2]]\n"
     ]
    }
   ],
   "source": [
    "np5 = np.array([[4,5,1],[9,7,2]])\n",
    "print(np5)"
   ]
  },
  {
   "cell_type": "code",
   "execution_count": 13,
   "id": "391ed70f-ac69-45ac-8188-cc4d96c7ede7",
   "metadata": {},
   "outputs": [
    {
     "name": "stdout",
     "output_type": "stream",
     "text": [
      "[[1 4 5]\n",
      " [2 7 9]]\n"
     ]
    }
   ],
   "source": [
    "print(np.sort(np5))"
   ]
  },
  {
   "cell_type": "code",
   "execution_count": null,
   "id": "9ddd69c9-7bbf-47d6-8a9b-8266a5e35501",
   "metadata": {},
   "outputs": [],
   "source": []
  }
 ],
 "metadata": {
  "kernelspec": {
   "display_name": "Python 3 (ipykernel)",
   "language": "python",
   "name": "python3"
  },
  "language_info": {
   "codemirror_mode": {
    "name": "ipython",
    "version": 3
   },
   "file_extension": ".py",
   "mimetype": "text/x-python",
   "name": "python",
   "nbconvert_exporter": "python",
   "pygments_lexer": "ipython3",
   "version": "3.13.1"
  }
 },
 "nbformat": 4,
 "nbformat_minor": 5
}
