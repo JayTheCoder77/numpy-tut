{
 "cells": [
  {
   "cell_type": "code",
   "execution_count": 1,
   "id": "4449650e-3afc-41a8-ab12-18378969747a",
   "metadata": {},
   "outputs": [],
   "source": [
    "import numpy as np"
   ]
  },
  {
   "cell_type": "markdown",
   "id": "2814e021-47d8-4f00-881b-480f34bfc8c0",
   "metadata": {},
   "source": [
    "search"
   ]
  },
  {
   "cell_type": "code",
   "execution_count": 13,
   "id": "191e4689-dfd3-4a9a-8431-a23d63ce3133",
   "metadata": {},
   "outputs": [],
   "source": [
    "np1 = np.array([1,2,3,4,5,6,7,8,9,10,3])"
   ]
  },
  {
   "cell_type": "code",
   "execution_count": 15,
   "id": "7f576c47-9b80-4a59-8b9c-148ebd03d26d",
   "metadata": {},
   "outputs": [],
   "source": [
    "x = np.where(np1 == 3)"
   ]
  },
  {
   "cell_type": "code",
   "execution_count": 16,
   "id": "c6bad581-d44b-478e-8e58-693dd08fe974",
   "metadata": {},
   "outputs": [
    {
     "name": "stdout",
     "output_type": "stream",
     "text": [
      "(array([ 2, 10]),)\n"
     ]
    }
   ],
   "source": [
    "print(x)"
   ]
  },
  {
   "cell_type": "code",
   "execution_count": 17,
   "id": "e4a45929-771f-4ac0-b98a-5ac1d2b42b65",
   "metadata": {},
   "outputs": [
    {
     "name": "stdout",
     "output_type": "stream",
     "text": [
      "[ 2 10]\n"
     ]
    }
   ],
   "source": [
    "print(x[0])"
   ]
  },
  {
   "cell_type": "code",
   "execution_count": 18,
   "id": "115c89c7-3485-4200-a291-70054896cf92",
   "metadata": {},
   "outputs": [
    {
     "name": "stdout",
     "output_type": "stream",
     "text": [
      "[3 3]\n"
     ]
    }
   ],
   "source": [
    "print(np1[x[0]])"
   ]
  },
  {
   "cell_type": "markdown",
   "id": "d9a9890a-9e1b-47e7-9f4d-7f0a00b3ca6d",
   "metadata": {},
   "source": [
    "return even items"
   ]
  },
  {
   "cell_type": "code",
   "execution_count": 19,
   "id": "dfbeb02f-b1e3-48ea-a007-3e60cb9ec8e8",
   "metadata": {},
   "outputs": [],
   "source": [
    "y = np.where(np1 % 2 == 0)"
   ]
  },
  {
   "cell_type": "code",
   "execution_count": 20,
   "id": "de0e1484-4dc1-4242-8ffb-9d7609bd3be1",
   "metadata": {},
   "outputs": [
    {
     "name": "stdout",
     "output_type": "stream",
     "text": [
      "(array([1, 3, 5, 7, 9]),)\n"
     ]
    }
   ],
   "source": [
    "print(y)"
   ]
  },
  {
   "cell_type": "markdown",
   "id": "0b7ed014-900b-4578-a329-a859f53052ad",
   "metadata": {},
   "source": [
    "these are the indexes not the elements themselves"
   ]
  },
  {
   "cell_type": "markdown",
   "id": "e76399a9-889d-4f38-ad14-975681121fe2",
   "metadata": {},
   "source": [
    "return odd"
   ]
  },
  {
   "cell_type": "code",
   "execution_count": 21,
   "id": "5bae5f2c-ef7b-4067-a756-c08b079ea59f",
   "metadata": {},
   "outputs": [
    {
     "name": "stdout",
     "output_type": "stream",
     "text": [
      "(array([ 0,  2,  4,  6,  8, 10]),)\n"
     ]
    }
   ],
   "source": [
    "z = np.where(np1 % 2 != 0)\n",
    "print(z)"
   ]
  }
 ],
 "metadata": {
  "kernelspec": {
   "display_name": "Python 3 (ipykernel)",
   "language": "python",
   "name": "python3"
  },
  "language_info": {
   "codemirror_mode": {
    "name": "ipython",
    "version": 3
   },
   "file_extension": ".py",
   "mimetype": "text/x-python",
   "name": "python",
   "nbconvert_exporter": "python",
   "pygments_lexer": "ipython3",
   "version": "3.13.1"
  }
 },
 "nbformat": 4,
 "nbformat_minor": 5
}
