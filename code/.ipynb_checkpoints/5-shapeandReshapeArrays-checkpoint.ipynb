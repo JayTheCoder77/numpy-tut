{
 "cells": [
  {
   "cell_type": "code",
   "execution_count": 1,
   "id": "13a08000-2992-4cd1-9473-a5e4f1b2165d",
   "metadata": {},
   "outputs": [],
   "source": [
    "import numpy as np"
   ]
  },
  {
   "cell_type": "markdown",
   "id": "1d32f38f-e9c2-4c64-8d03-a980fbb238d6",
   "metadata": {},
   "source": [
    "create 1-d numpy array and get shape"
   ]
  },
  {
   "cell_type": "code",
   "execution_count": 2,
   "id": "a3268e9e-3c85-4e8a-ba2e-b684c0bb9d9c",
   "metadata": {},
   "outputs": [],
   "source": [
    "np1 = np.array([1,2,3,4,5,6,7,8,9,10,11,12])"
   ]
  },
  {
   "cell_type": "code",
   "execution_count": 3,
   "id": "3da139f6-62cc-48b8-b2de-72c36a9328b8",
   "metadata": {},
   "outputs": [
    {
     "name": "stdout",
     "output_type": "stream",
     "text": [
      "[ 1  2  3  4  5  6  7  8  9 10 11 12]\n",
      "(12,)\n"
     ]
    }
   ],
   "source": [
    "print(np1)\n",
    "print(np1.shape)"
   ]
  },
  {
   "cell_type": "markdown",
   "id": "bd40e2c8-adfe-49ae-8891-7bb260b5d0d8",
   "metadata": {},
   "source": [
    "create 2-d numpy arr and get shape (rows/cols)"
   ]
  },
  {
   "cell_type": "code",
   "execution_count": 4,
   "id": "2cc46996-6c53-41a7-becf-21ba0257648b",
   "metadata": {},
   "outputs": [
    {
     "name": "stdout",
     "output_type": "stream",
     "text": [
      "[[ 1  2  3  4  5  6]\n",
      " [ 7  8  9 10 11 12]]\n",
      "(2, 6)\n"
     ]
    }
   ],
   "source": [
    "np2 = np.array([[1,2,3,4,5,6],[7,8,9,10,11,12]])\n",
    "print(np2)\n",
    "print(np2.shape)"
   ]
  },
  {
   "cell_type": "markdown",
   "id": "94357512-9cea-4ddc-b80b-5f11a005414c",
   "metadata": {},
   "source": [
    "reshape 2-d"
   ]
  },
  {
   "cell_type": "code",
   "execution_count": 5,
   "id": "5c155d4b-6990-4b3a-9953-ddf36a8a2baa",
   "metadata": {},
   "outputs": [
    {
     "name": "stdout",
     "output_type": "stream",
     "text": [
      "[[ 1  2  3  4]\n",
      " [ 5  6  7  8]\n",
      " [ 9 10 11 12]]\n",
      "(3, 4)\n"
     ]
    }
   ],
   "source": [
    "np3 = np1.reshape(3,4) \n",
    "print(np3)\n",
    "print(np3.shape)"
   ]
  },
  {
   "cell_type": "markdown",
   "id": "89a6f1f3-6968-41e4-a3e3-9949f9291d8c",
   "metadata": {},
   "source": [
    "reshape 3-d"
   ]
  },
  {
   "cell_type": "code",
   "execution_count": 6,
   "id": "87683cdb-3d53-4b93-b353-32d97b190ff6",
   "metadata": {},
   "outputs": [
    {
     "name": "stdout",
     "output_type": "stream",
     "text": [
      "[[[ 1  2]\n",
      "  [ 3  4]\n",
      "  [ 5  6]]\n",
      "\n",
      " [[ 7  8]\n",
      "  [ 9 10]\n",
      "  [11 12]]]\n",
      "(2, 3, 2)\n"
     ]
    }
   ],
   "source": [
    "np4 = np1.reshape(2,3,2)\n",
    "print(np4)\n",
    "print(np4.shape)"
   ]
  },
  {
   "cell_type": "markdown",
   "id": "97f26d6c-9439-4c28-a455-f6c75b671040",
   "metadata": {},
   "source": [
    "flatten to 1-d"
   ]
  },
  {
   "cell_type": "code",
   "execution_count": 7,
   "id": "8cda78eb-e0fa-4499-b554-a0bb655005a1",
   "metadata": {},
   "outputs": [
    {
     "name": "stdout",
     "output_type": "stream",
     "text": [
      "[ 1  2  3  4  5  6  7  8  9 10 11 12]\n",
      "(12,)\n"
     ]
    }
   ],
   "source": [
    "np5 = np4.reshape(-1)\n",
    "print(np5)\n",
    "print(np5.shape)"
   ]
  },
  {
   "cell_type": "code",
   "execution_count": null,
   "id": "c495a216-9fae-445c-a94b-5cee36ea71a8",
   "metadata": {},
   "outputs": [],
   "source": []
  }
 ],
 "metadata": {
  "kernelspec": {
   "display_name": "Python 3 (ipykernel)",
   "language": "python",
   "name": "python3"
  },
  "language_info": {
   "codemirror_mode": {
    "name": "ipython",
    "version": 3
   },
   "file_extension": ".py",
   "mimetype": "text/x-python",
   "name": "python",
   "nbconvert_exporter": "python",
   "pygments_lexer": "ipython3",
   "version": "3.13.1"
  }
 },
 "nbformat": 4,
 "nbformat_minor": 5
}
