{
 "cells": [
  {
   "cell_type": "code",
   "execution_count": 1,
   "id": "c96abeed-3c23-4bc6-9487-a1b72bcba83a",
   "metadata": {},
   "outputs": [],
   "source": [
    "import numpy as np"
   ]
  },
  {
   "cell_type": "markdown",
   "id": "d33bcc57-5c27-4245-bde6-3982af0a54c1",
   "metadata": {},
   "source": [
    "1-d"
   ]
  },
  {
   "cell_type": "code",
   "execution_count": 2,
   "id": "2034e3a7-31b6-432c-8630-fecc4a3aee49",
   "metadata": {},
   "outputs": [],
   "source": [
    "np1 = np.array([1,2,3,4,5,6,7,8,9])"
   ]
  },
  {
   "cell_type": "code",
   "execution_count": 3,
   "id": "82967988-fba3-4697-82d0-80ee92c91a20",
   "metadata": {},
   "outputs": [
    {
     "name": "stdout",
     "output_type": "stream",
     "text": [
      "1\n",
      "2\n",
      "3\n",
      "4\n",
      "5\n",
      "6\n",
      "7\n",
      "8\n",
      "9\n"
     ]
    }
   ],
   "source": [
    "for x in np1:\n",
    "    print(x)"
   ]
  },
  {
   "cell_type": "markdown",
   "id": "50fd32f5-6b12-4b42-b4a2-ce6938fa5aef",
   "metadata": {},
   "source": [
    "2-d array"
   ]
  },
  {
   "cell_type": "code",
   "execution_count": 4,
   "id": "17a63540-7ea3-4f4a-9141-4f354458c035",
   "metadata": {},
   "outputs": [
    {
     "name": "stdout",
     "output_type": "stream",
     "text": [
      "[1 2 3 4 5]\n",
      "[ 6  7  8  9 10]\n"
     ]
    }
   ],
   "source": [
    "np2 = np.array([[1,2,3,4,5],[6,7,8,9,10]])\n",
    "for x in np2:\n",
    "    #print rows\n",
    "    print(x)"
   ]
  },
  {
   "cell_type": "code",
   "execution_count": 6,
   "id": "0afe3346-48c6-4189-8a37-de3329e95aa1",
   "metadata": {},
   "outputs": [
    {
     "name": "stdout",
     "output_type": "stream",
     "text": [
      "1 2 3 4 5 6 7 8 9 10 "
     ]
    }
   ],
   "source": [
    "np2 = np.array([[1,2,3,4,5],[6,7,8,9,10]])\n",
    "for x in np2:\n",
    "    #print rows\n",
    "    for y in x:\n",
    "        print(y,end=\" \")"
   ]
  },
  {
   "cell_type": "markdown",
   "id": "4337c4d9-f257-4242-8f74-0b39b623fda0",
   "metadata": {},
   "source": [
    "3-d array"
   ]
  },
  {
   "cell_type": "code",
   "execution_count": 7,
   "id": "ac6c3fd9-40d6-4531-a8c9-c66ede98a339",
   "metadata": {},
   "outputs": [
    {
     "name": "stdout",
     "output_type": "stream",
     "text": [
      "[[ 1  2  3]\n",
      " [ 4  5  6]\n",
      " [ 7  8  9]\n",
      " [10 11 12]]\n"
     ]
    }
   ],
   "source": [
    "np3 = np.array([[[1,2,3],[4,5,6],[7,8,9],[10,11,12]]])\n",
    "\n",
    "for x in np3:\n",
    "    print(x)"
   ]
  },
  {
   "cell_type": "code",
   "execution_count": 9,
   "id": "35f5f8a5-325b-43bc-84d5-da94d5212544",
   "metadata": {},
   "outputs": [
    {
     "name": "stdout",
     "output_type": "stream",
     "text": [
      "[1 2 3]\n",
      "[4 5 6]\n",
      "[7 8 9]\n",
      "[10 11 12]\n"
     ]
    }
   ],
   "source": [
    "for x in np3:\n",
    "    for y in x:\n",
    "        print(y)"
   ]
  },
  {
   "cell_type": "code",
   "execution_count": 10,
   "id": "5d6f6b37-467d-4bae-843a-82b430f1845b",
   "metadata": {},
   "outputs": [
    {
     "name": "stdout",
     "output_type": "stream",
     "text": [
      "1 2 3 4 5 6 7 8 9 10 11 12 "
     ]
    }
   ],
   "source": [
    "for x in np3:\n",
    "    for y in x:\n",
    "        for z in y:\n",
    "            print(z,end=\" \")"
   ]
  },
  {
   "cell_type": "markdown",
   "id": "be09bb9f-5f71-4535-93db-e54934bb70d9",
   "metadata": {},
   "source": [
    "use np.nditer()\n"
   ]
  },
  {
   "cell_type": "code",
   "execution_count": 11,
   "id": "ed257b47-2fab-4f0f-b358-bf302a278e08",
   "metadata": {},
   "outputs": [
    {
     "name": "stdout",
     "output_type": "stream",
     "text": [
      "1 2 3 4 5 6 7 8 9 10 11 12 "
     ]
    }
   ],
   "source": [
    "for x in np.nditer(np3):\n",
    "    print(x,end =\" \")"
   ]
  },
  {
   "cell_type": "code",
   "execution_count": null,
   "id": "f03c77d6-3105-4ae1-9166-86ecc2c95f8f",
   "metadata": {},
   "outputs": [],
   "source": []
  }
 ],
 "metadata": {
  "kernelspec": {
   "display_name": "Python 3 (ipykernel)",
   "language": "python",
   "name": "python3"
  },
  "language_info": {
   "codemirror_mode": {
    "name": "ipython",
    "version": 3
   },
   "file_extension": ".py",
   "mimetype": "text/x-python",
   "name": "python",
   "nbconvert_exporter": "python",
   "pygments_lexer": "ipython3",
   "version": "3.13.1"
  }
 },
 "nbformat": 4,
 "nbformat_minor": 5
}
