{
 "cells": [
  {
   "cell_type": "code",
   "execution_count": 2,
   "id": "a00737d5-2dba-4800-a102-fbe98c803957",
   "metadata": {},
   "outputs": [],
   "source": [
    "import numpy as np"
   ]
  },
  {
   "cell_type": "markdown",
   "id": "6c828ff1-c5c5-41f0-b03d-46ed64484661",
   "metadata": {},
   "source": [
    "BASICS"
   ]
  },
  {
   "cell_type": "code",
   "execution_count": 9,
   "id": "f5235a7c-2cc5-4d63-af5d-89938d8908e9",
   "metadata": {},
   "outputs": [
    {
     "name": "stdout",
     "output_type": "stream",
     "text": [
      "[1 2 3]\n"
     ]
    },
    {
     "data": {
      "text/plain": [
       "dtype('int64')"
      ]
     },
     "execution_count": 9,
     "metadata": {},
     "output_type": "execute_result"
    }
   ],
   "source": [
    "a = np.array([1,2,3])\n",
    "print(a)\n",
    "type(a)\n",
    "a.dtype"
   ]
  },
  {
   "cell_type": "code",
   "execution_count": 13,
   "id": "199e23dc-aa92-4394-8f96-fe1796bbe14c",
   "metadata": {},
   "outputs": [
    {
     "name": "stdout",
     "output_type": "stream",
     "text": [
      "['a' 'b' 'd' 'c']\n",
      "1\n"
     ]
    }
   ],
   "source": [
    "b = np.array([\"a\",\"b\",\"d\",\"c\"])\n",
    "print(b)\n",
    "type(b)\n",
    "b.dtype\n",
    "print(b.ndim)"
   ]
  },
  {
   "cell_type": "code",
   "execution_count": 11,
   "id": "a7b9dc4e-aa2f-4cad-884e-9810f5b18a2d",
   "metadata": {},
   "outputs": [
    {
     "name": "stdout",
     "output_type": "stream",
     "text": [
      "[2. 3. 5.]\n"
     ]
    },
    {
     "data": {
      "text/plain": [
       "dtype('float32')"
      ]
     },
     "execution_count": 11,
     "metadata": {},
     "output_type": "execute_result"
    }
   ],
   "source": [
    "c = np.array((2,3,5),dtype='f')\n",
    "print(c)\n",
    "type(c)\n",
    "c.dtype"
   ]
  },
  {
   "cell_type": "code",
   "execution_count": 16,
   "id": "30d1c5f1-54a8-4b2a-a0c1-969d7238c05d",
   "metadata": {},
   "outputs": [
    {
     "name": "stdout",
     "output_type": "stream",
     "text": [
      "2\n"
     ]
    },
    {
     "data": {
      "text/plain": [
       "np.int64(3)"
      ]
     },
     "execution_count": 16,
     "metadata": {},
     "output_type": "execute_result"
    }
   ],
   "source": [
    "a = np.array([[1,2,3] , [4,5,6]])\n",
    "print(a.ndim)\n",
    "a[0,2]"
   ]
  },
  {
   "cell_type": "code",
   "execution_count": 17,
   "id": "242dd097-b58b-4393-b336-48a3435ceeb2",
   "metadata": {},
   "outputs": [
    {
     "name": "stdout",
     "output_type": "stream",
     "text": [
      "(9,)\n"
     ]
    }
   ],
   "source": [
    "a = np.array([1,2,4,5,6,7,8,9,0])\n",
    "print(a.shape)"
   ]
  },
  {
   "cell_type": "code",
   "execution_count": 18,
   "id": "8bbe76a2-1721-45ad-882b-b720a1c65328",
   "metadata": {},
   "outputs": [
    {
     "name": "stdout",
     "output_type": "stream",
     "text": [
      "[0 1 2 3 4 5 6 7 8 9]\n"
     ]
    }
   ],
   "source": [
    "#range\n",
    "b = np.arange(10)\n",
    "print(b)"
   ]
  },
  {
   "cell_type": "code",
   "execution_count": 20,
   "id": "4bd73c15-9083-4333-b4e8-44c3bd3a43de",
   "metadata": {},
   "outputs": [
    {
     "name": "stdout",
     "output_type": "stream",
     "text": [
      "[0 2 4 6 8]\n"
     ]
    }
   ],
   "source": [
    "#step\n",
    "c = np.arange(0,10,2)\n",
    "print(c)"
   ]
  },
  {
   "cell_type": "code",
   "execution_count": 21,
   "id": "1cad7c58-f1b7-4a1e-9949-33bfda949edc",
   "metadata": {},
   "outputs": [
    {
     "name": "stdout",
     "output_type": "stream",
     "text": [
      "[0. 0. 0. 0. 0. 0. 0. 0. 0. 0.]\n"
     ]
    }
   ],
   "source": [
    "#ZEROES\n",
    "np4 = np.zeros(10)\n",
    "print(np4)"
   ]
  },
  {
   "cell_type": "code",
   "execution_count": 22,
   "id": "91a50114-e739-4c2d-baf9-8675353963e8",
   "metadata": {},
   "outputs": [
    {
     "name": "stdout",
     "output_type": "stream",
     "text": [
      "[[0. 0. 0. 0. 0. 0. 0. 0. 0. 0.]\n",
      " [0. 0. 0. 0. 0. 0. 0. 0. 0. 0.]]\n"
     ]
    }
   ],
   "source": [
    "#mulitdimensional zeros\n",
    "np5 = np.zeros((2,10))\n",
    "print(np5)"
   ]
  },
  {
   "cell_type": "code",
   "execution_count": 24,
   "id": "7a01cb5d-30a4-4457-88c5-0ef02f748d51",
   "metadata": {},
   "outputs": [
    {
     "name": "stdout",
     "output_type": "stream",
     "text": [
      "[6 6 6 6 6 6 6 6 6 6]\n"
     ]
    }
   ],
   "source": [
    "#full\n",
    "np5 = np.full((10),6)\n",
    "print(np5)"
   ]
  },
  {
   "cell_type": "code",
   "execution_count": 25,
   "id": "d239a470-1e2a-48c9-81ef-a2bb43de28bc",
   "metadata": {},
   "outputs": [
    {
     "name": "stdout",
     "output_type": "stream",
     "text": [
      "[[6 6 6 6 6 6 6 6 6 6]\n",
      " [6 6 6 6 6 6 6 6 6 6]]\n"
     ]
    }
   ],
   "source": [
    "#mulitdimensional full\n",
    "np5 = np.full((2,10),6)\n",
    "print(np5)"
   ]
  },
  {
   "cell_type": "code",
   "execution_count": 27,
   "id": "ebe5f604-a06d-4804-a875-80a3e66c8cd5",
   "metadata": {},
   "outputs": [
    {
     "name": "stdout",
     "output_type": "stream",
     "text": [
      "1\n"
     ]
    }
   ],
   "source": [
    "# convert python lists to numpy\n",
    "my_list = [1,2,3,4,5,6,7]\n",
    "np8 = np.array(my_list)\n",
    "print(np8[0])"
   ]
  },
  {
   "cell_type": "code",
   "execution_count": null,
   "id": "abcd0704-5ad5-49ba-88f6-0e50de368b53",
   "metadata": {},
   "outputs": [],
   "source": []
  }
 ],
 "metadata": {
  "kernelspec": {
   "display_name": "Python 3 (ipykernel)",
   "language": "python",
   "name": "python3"
  },
  "language_info": {
   "codemirror_mode": {
    "name": "ipython",
    "version": 3
   },
   "file_extension": ".py",
   "mimetype": "text/x-python",
   "name": "python",
   "nbconvert_exporter": "python",
   "pygments_lexer": "ipython3",
   "version": "3.13.1"
  }
 },
 "nbformat": 4,
 "nbformat_minor": 5
}
