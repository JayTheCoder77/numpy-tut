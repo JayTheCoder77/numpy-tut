{
 "cells": [
  {
   "cell_type": "code",
   "execution_count": 1,
   "id": "95f66705-0649-4b25-bab4-06ec9ba0c9f6",
   "metadata": {},
   "outputs": [],
   "source": [
    "import numpy as np"
   ]
  },
  {
   "cell_type": "markdown",
   "id": "14ad354e-0aa4-41eb-8373-5deeba2afc10",
   "metadata": {},
   "source": [
    "Array copy vs view\n"
   ]
  },
  {
   "cell_type": "code",
   "execution_count": 2,
   "id": "9a0745f9-b0e6-429e-851a-6cfaf55e4bb3",
   "metadata": {},
   "outputs": [],
   "source": [
    "np1 = np.array([0,1,2,3,4,5])"
   ]
  },
  {
   "cell_type": "code",
   "execution_count": 3,
   "id": "72d00017-33a6-4fe2-8fc6-8a3055dc9f19",
   "metadata": {},
   "outputs": [],
   "source": [
    "np2 = np1.view()"
   ]
  },
  {
   "cell_type": "code",
   "execution_count": 7,
   "id": "d62faee5-cef3-436f-ab0d-28185640ead1",
   "metadata": {},
   "outputs": [
    {
     "name": "stdout",
     "output_type": "stream",
     "text": [
      "Original Np1 : [0 1 2 3 4 5]\n",
      "View Np2 : [0 1 2 3 4 5]\n"
     ]
    }
   ],
   "source": [
    "print(f\"Original Np1 : {np1}\")\n",
    "print(f\"View Np2 : {np2}\")"
   ]
  },
  {
   "cell_type": "code",
   "execution_count": 8,
   "id": "1036a2a5-1fd7-47c7-82be-72abd8dfc045",
   "metadata": {},
   "outputs": [],
   "source": [
    "np1[0] = 41"
   ]
  },
  {
   "cell_type": "code",
   "execution_count": 10,
   "id": "437c96ec-6fdf-4ce1-b07d-f93dd470350f",
   "metadata": {},
   "outputs": [
    {
     "name": "stdout",
     "output_type": "stream",
     "text": [
      "Original Np1 : [41  1  2  3  4  5]\n",
      "View Np2 : [41  1  2  3  4  5]\n"
     ]
    }
   ],
   "source": [
    "print(f\"Original Np1 : {np1}\")\n",
    "print(f\"View Np2 : {np2}\")"
   ]
  },
  {
   "cell_type": "markdown",
   "id": "22d2338a-d10f-465e-a0d1-7fb6e488c233",
   "metadata": {},
   "source": [
    "Create A Copy"
   ]
  },
  {
   "cell_type": "code",
   "execution_count": 14,
   "id": "28c7a2e1-c44b-4bc0-8556-7f72550ca5a0",
   "metadata": {},
   "outputs": [],
   "source": [
    "np3 = np1.copy()"
   ]
  },
  {
   "cell_type": "code",
   "execution_count": 15,
   "id": "4aea438a-2373-4cd3-ba1d-c22c737adff8",
   "metadata": {},
   "outputs": [
    {
     "name": "stdout",
     "output_type": "stream",
     "text": [
      "Original Np1 : [41  1  2  3  4  5]\n",
      "Copy Np3 : [41  1  2  3  4  5]\n"
     ]
    }
   ],
   "source": [
    "print(f\"Original Np1 : {np1}\")\n",
    "print(f\"Copy Np3 : {np3}\")"
   ]
  },
  {
   "cell_type": "code",
   "execution_count": 17,
   "id": "96bcec4c-de31-4ae4-91fa-6191cf740776",
   "metadata": {},
   "outputs": [],
   "source": [
    "np1[0] = 0"
   ]
  },
  {
   "cell_type": "code",
   "execution_count": 18,
   "id": "2cccbbda-1b65-4ae0-9eaa-e77bebf3726f",
   "metadata": {},
   "outputs": [
    {
     "name": "stdout",
     "output_type": "stream",
     "text": [
      "Original Np1 : [0 1 2 3 4 5]\n",
      "Copy Np3 : [41  1  2  3  4  5]\n"
     ]
    }
   ],
   "source": [
    "print(f\"Original Np1 : {np1}\")\n",
    "print(f\"Copy Np3 : {np3}\")"
   ]
  },
  {
   "cell_type": "code",
   "execution_count": 19,
   "id": "6c53224c-7189-4817-a5a0-7b9b476fc6ff",
   "metadata": {},
   "outputs": [],
   "source": [
    "np3[0] = 91"
   ]
  },
  {
   "cell_type": "code",
   "execution_count": 20,
   "id": "eac96c8d-5818-4fa7-81d4-a0d8fd9e64f5",
   "metadata": {},
   "outputs": [
    {
     "name": "stdout",
     "output_type": "stream",
     "text": [
      "Original Np1 : [0 1 2 3 4 5]\n",
      "Copy Np3 : [91  1  2  3  4  5]\n"
     ]
    }
   ],
   "source": [
    "print(f\"Original Np1 : {np1}\")\n",
    "print(f\"Copy Np3 : {np3}\")"
   ]
  },
  {
   "cell_type": "code",
   "execution_count": null,
   "id": "16ce4bc1-f3b1-43e2-93db-6962316396bc",
   "metadata": {},
   "outputs": [],
   "source": []
  }
 ],
 "metadata": {
  "kernelspec": {
   "display_name": "Python 3 (ipykernel)",
   "language": "python",
   "name": "python3"
  },
  "language_info": {
   "codemirror_mode": {
    "name": "ipython",
    "version": 3
   },
   "file_extension": ".py",
   "mimetype": "text/x-python",
   "name": "python",
   "nbconvert_exporter": "python",
   "pygments_lexer": "ipython3",
   "version": "3.13.1"
  }
 },
 "nbformat": 4,
 "nbformat_minor": 5
}
