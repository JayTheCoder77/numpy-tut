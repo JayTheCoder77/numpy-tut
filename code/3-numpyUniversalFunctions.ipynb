{
 "cells": [
  {
   "cell_type": "code",
   "execution_count": 2,
   "id": "f097b612-96a7-4500-a5df-f98a6b208316",
   "metadata": {},
   "outputs": [],
   "source": [
    "import numpy as np"
   ]
  },
  {
   "cell_type": "markdown",
   "id": "e116106a-d4f7-4df9-9de0-af2933192fc8",
   "metadata": {},
   "source": [
    "numpy universal function"
   ]
  },
  {
   "cell_type": "code",
   "execution_count": 3,
   "id": "21c2b98c-78db-46f3-8f9b-5ba404a4dbfa",
   "metadata": {},
   "outputs": [],
   "source": [
    "np1 = np.array([0,1,2,-3,4,-5,6,-7,8,9])"
   ]
  },
  {
   "cell_type": "code",
   "execution_count": 4,
   "id": "45180925-2dd3-42d0-9b7d-b45c24dbe84e",
   "metadata": {},
   "outputs": [
    {
     "name": "stdout",
     "output_type": "stream",
     "text": [
      "[0 1 2 3 4 5 6 7 8 9]\n"
     ]
    }
   ],
   "source": [
    "print(np1)"
   ]
  },
  {
   "cell_type": "markdown",
   "id": "2d8ffab7-b5f8-423a-a360-aedba31b3612",
   "metadata": {},
   "source": [
    "square root of each element"
   ]
  },
  {
   "cell_type": "code",
   "execution_count": 5,
   "id": "17a13487-bcf7-4bc1-a1cf-e2fd5c318478",
   "metadata": {},
   "outputs": [
    {
     "name": "stdout",
     "output_type": "stream",
     "text": [
      "[0.         1.         1.41421356 1.73205081 2.         2.23606798\n",
      " 2.44948974 2.64575131 2.82842712 3.        ]\n"
     ]
    }
   ],
   "source": [
    "print(np.sqrt(np1))"
   ]
  },
  {
   "cell_type": "markdown",
   "id": "7cb0f4d8-2de2-4c28-a0b8-041aeec54074",
   "metadata": {},
   "source": [
    "absolute value"
   ]
  },
  {
   "cell_type": "code",
   "execution_count": 6,
   "id": "a0be66b2-d4d2-48a2-899e-b50e47e2c84f",
   "metadata": {},
   "outputs": [
    {
     "name": "stdout",
     "output_type": "stream",
     "text": [
      "[0 1 2 3 4 5 6 7 8 9]\n"
     ]
    }
   ],
   "source": [
    "print(np.absolute(np1))"
   ]
  },
  {
   "cell_type": "markdown",
   "id": "f8cf8bfd-63b5-4642-8832-33bdf45da975",
   "metadata": {},
   "source": [
    "exponents"
   ]
  },
  {
   "cell_type": "code",
   "execution_count": 7,
   "id": "b4e0acab-71b4-41ad-99c6-2a83ae9d7c0c",
   "metadata": {},
   "outputs": [
    {
     "name": "stdout",
     "output_type": "stream",
     "text": [
      "[1.00000000e+00 2.71828183e+00 7.38905610e+00 2.00855369e+01\n",
      " 5.45981500e+01 1.48413159e+02 4.03428793e+02 1.09663316e+03\n",
      " 2.98095799e+03 8.10308393e+03]\n"
     ]
    }
   ],
   "source": [
    "print(np.exp(np1))"
   ]
  },
  {
   "cell_type": "markdown",
   "id": "2d47528b-d6bc-426f-9cfd-dd1ac970706f",
   "metadata": {},
   "source": [
    "min / max"
   ]
  },
  {
   "cell_type": "code",
   "execution_count": 12,
   "id": "4b2ac7a1-ea78-493e-9eb1-ea7a527a2a82",
   "metadata": {},
   "outputs": [
    {
     "name": "stdout",
     "output_type": "stream",
     "text": [
      "9\n",
      "-7\n"
     ]
    }
   ],
   "source": [
    "np2 = np.array([0, 1, 2, -3, 4, -5, 6, -7, 8, 9])\n",
    "print(np.max(np2))\n",
    "print(np.min(np2))"
   ]
  },
  {
   "cell_type": "markdown",
   "id": "96aec3f7-95de-482b-949f-6d3232dbb7f1",
   "metadata": {},
   "source": [
    "sign positive or negative\n",
    "-1 for neg\n",
    "0 for zero\n",
    "1 for pos"
   ]
  },
  {
   "cell_type": "code",
   "execution_count": 14,
   "id": "9d78dbd2-b263-4b1d-9b58-122a35700d2a",
   "metadata": {},
   "outputs": [
    {
     "name": "stdout",
     "output_type": "stream",
     "text": [
      "[ 0  1  1 -1  1 -1  1 -1  1  1]\n"
     ]
    }
   ],
   "source": [
    "print(np.sign(np2))"
   ]
  },
  {
   "cell_type": "markdown",
   "id": "271047c9-aca0-4468-ada1-0a2a14e798d2",
   "metadata": {},
   "source": [
    "trigonometric functions -> sin , cos , tan"
   ]
  },
  {
   "cell_type": "code",
   "execution_count": 17,
   "id": "752ccbc6-515e-4019-8a8c-2f4fb883f33a",
   "metadata": {},
   "outputs": [
    {
     "name": "stdout",
     "output_type": "stream",
     "text": [
      "[ 0.          0.84147098  0.90929743 -0.14112001 -0.7568025   0.95892427\n",
      " -0.2794155  -0.6569866   0.98935825  0.41211849]\n",
      "[ 1.          0.54030231 -0.41614684 -0.9899925  -0.65364362  0.28366219\n",
      "  0.96017029  0.75390225 -0.14550003 -0.91113026]\n",
      "[ 0.          1.55740772 -2.18503986  0.14254654  1.15782128  3.38051501\n",
      " -0.29100619 -0.87144798 -6.79971146 -0.45231566]\n"
     ]
    }
   ],
   "source": [
    "print(np.sin(np2))\n",
    "print(np.cos(np2))\n",
    "print(np.tan(np2))"
   ]
  },
  {
   "cell_type": "markdown",
   "id": "075748b5-d69e-421a-af1b-98348f7ea076",
   "metadata": {},
   "source": [
    "log"
   ]
  },
  {
   "cell_type": "code",
   "execution_count": 20,
   "id": "e855e820-cbb0-4b4e-be04-55381f8de9ff",
   "metadata": {},
   "outputs": [
    {
     "name": "stdout",
     "output_type": "stream",
     "text": [
      "[0.         0.69314718 1.09861229 1.38629436 1.60943791]\n"
     ]
    }
   ],
   "source": [
    "np3 = np.array([1,2,3,4,5])\n",
    "print(np.log(np3))"
   ]
  },
  {
   "cell_type": "code",
   "execution_count": null,
   "id": "9c759606-ec88-49f7-afea-5c70ac84c657",
   "metadata": {},
   "outputs": [],
   "source": []
  }
 ],
 "metadata": {
  "kernelspec": {
   "display_name": "Python 3 (ipykernel)",
   "language": "python",
   "name": "python3"
  },
  "language_info": {
   "codemirror_mode": {
    "name": "ipython",
    "version": 3
   },
   "file_extension": ".py",
   "mimetype": "text/x-python",
   "name": "python",
   "nbconvert_exporter": "python",
   "pygments_lexer": "ipython3",
   "version": "3.13.1"
  }
 },
 "nbformat": 4,
 "nbformat_minor": 5
}
