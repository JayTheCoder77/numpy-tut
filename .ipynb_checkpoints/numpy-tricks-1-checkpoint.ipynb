{
  "cells": [
    {
      "cell_type": "markdown",
      "metadata": {
        "id": "view-in-github",
        "colab_type": "text"
      },
      "source": [
        "<a href=\"https://colab.research.google.com/github/JayTheCoder77/numpy-tut/blob/main/numpy-tricks-1.ipynb\" target=\"_parent\"><img src=\"https://colab.research.google.com/assets/colab-badge.svg\" alt=\"Open In Colab\"/></a>"
      ]
    },
    {
      "cell_type": "markdown",
      "source": [
        "Session 15 campusx numpy advanced tricks\n"
      ],
      "metadata": {
        "id": "WJk7Ky3Arzmj"
      }
    },
    {
      "cell_type": "code",
      "source": [
        "import numpy as np"
      ],
      "metadata": {
        "id": "QvGii1xUr5U-"
      },
      "execution_count": 1,
      "outputs": []
    },
    {
      "cell_type": "code",
      "source": [
        "# sort - returns sorted copy of an array\n",
        "\n",
        "a = np.random.randint(1,100,15)\n",
        "a\n"
      ],
      "metadata": {
        "id": "86nLbgEnspMX",
        "outputId": "c236d91b-ccd3-44f2-d78a-b80113b51e43",
        "colab": {
          "base_uri": "https://localhost:8080/"
        }
      },
      "execution_count": 2,
      "outputs": [
        {
          "output_type": "execute_result",
          "data": {
            "text/plain": [
              "array([40, 16, 54, 49, 79, 13, 34, 83, 82, 55, 35, 22, 95, 98, 91])"
            ]
          },
          "metadata": {},
          "execution_count": 2
        }
      ]
    },
    {
      "cell_type": "code",
      "source": [
        "b = np.random.randint(1,100,24).reshape(6,4)\n",
        "b"
      ],
      "metadata": {
        "id": "5ygbi9dLs262",
        "outputId": "c91702aa-e6a3-46e7-befb-abe7efa74586",
        "colab": {
          "base_uri": "https://localhost:8080/"
        }
      },
      "execution_count": 4,
      "outputs": [
        {
          "output_type": "execute_result",
          "data": {
            "text/plain": [
              "array([[10, 94, 99, 90],\n",
              "       [24, 53, 39,  8],\n",
              "       [94, 44, 78, 92],\n",
              "       [79, 74, 82, 18],\n",
              "       [ 5, 18, 69, 70],\n",
              "       [77,  4, 91,  9]])"
            ]
          },
          "metadata": {},
          "execution_count": 4
        }
      ]
    },
    {
      "cell_type": "code",
      "source": [
        "np.sort(a)\n",
        "np.sort(b , axis = 0) # row wise default for col axis - 0\n",
        "\n",
        "# for descending order sorting\n",
        "np.sort(a)[::-1]"
      ],
      "metadata": {
        "id": "jBRE1nb4s9yr",
        "outputId": "d8f0cc29-fc9e-4044-ea99-ae96d4dcd6cd",
        "colab": {
          "base_uri": "https://localhost:8080/"
        }
      },
      "execution_count": 8,
      "outputs": [
        {
          "output_type": "execute_result",
          "data": {
            "text/plain": [
              "array([98, 95, 91, 83, 82, 79, 55, 54, 49, 40, 35, 34, 22, 16, 13])"
            ]
          },
          "metadata": {},
          "execution_count": 8
        }
      ]
    },
    {
      "cell_type": "code",
      "source": [
        "# append = give axis to append a value\n",
        "np.append(a,200)"
      ],
      "metadata": {
        "id": "OOWdUINUtIO-",
        "outputId": "f530f510-de2e-4f80-e074-0aeca4b26969",
        "colab": {
          "base_uri": "https://localhost:8080/"
        }
      },
      "execution_count": 9,
      "outputs": [
        {
          "output_type": "execute_result",
          "data": {
            "text/plain": [
              "array([ 40,  16,  54,  49,  79,  13,  34,  83,  82,  55,  35,  22,  95,\n",
              "        98,  91, 200])"
            ]
          },
          "metadata": {},
          "execution_count": 9
        }
      ]
    },
    {
      "cell_type": "code",
      "source": [
        "np.append(b,np.ones((b.shape[0],1)),axis = 1)"
      ],
      "metadata": {
        "id": "8dyD2XyPt2-h",
        "outputId": "bca0ebb9-89e9-47b7-aff8-1cd3422573ee",
        "colab": {
          "base_uri": "https://localhost:8080/"
        }
      },
      "execution_count": 11,
      "outputs": [
        {
          "output_type": "execute_result",
          "data": {
            "text/plain": [
              "array([[10., 94., 99., 90.,  1.],\n",
              "       [24., 53., 39.,  8.,  1.],\n",
              "       [94., 44., 78., 92.,  1.],\n",
              "       [79., 74., 82., 18.,  1.],\n",
              "       [ 5., 18., 69., 70.,  1.],\n",
              "       [77.,  4., 91.,  9.,  1.]])"
            ]
          },
          "metadata": {},
          "execution_count": 11
        }
      ]
    },
    {
      "cell_type": "code",
      "source": [
        "# concatenate\n",
        "\n",
        "c = np.arange(6).reshape(2,3)\n",
        "d = np.arange(6,12).reshape(2,3)\n",
        "\n",
        "np.concatenate((c,d),axis=0)"
      ],
      "metadata": {
        "id": "KFw7wFNcuIiC",
        "outputId": "16886ba0-df82-4e8b-b990-1f2c5b48fb58",
        "colab": {
          "base_uri": "https://localhost:8080/"
        }
      },
      "execution_count": 12,
      "outputs": [
        {
          "output_type": "execute_result",
          "data": {
            "text/plain": [
              "array([[ 0,  1,  2],\n",
              "       [ 3,  4,  5],\n",
              "       [ 6,  7,  8],\n",
              "       [ 9, 10, 11]])"
            ]
          },
          "metadata": {},
          "execution_count": 12
        }
      ]
    },
    {
      "cell_type": "code",
      "source": [
        "np.concatenate((c,d),axis=1)"
      ],
      "metadata": {
        "id": "x-XtItU1urqZ",
        "outputId": "6bbae278-ab9b-45a1-de33-a58c45ba904c",
        "colab": {
          "base_uri": "https://localhost:8080/"
        }
      },
      "execution_count": 13,
      "outputs": [
        {
          "output_type": "execute_result",
          "data": {
            "text/plain": [
              "array([[ 0,  1,  2,  6,  7,  8],\n",
              "       [ 3,  4,  5,  9, 10, 11]])"
            ]
          },
          "metadata": {},
          "execution_count": 13
        }
      ]
    },
    {
      "cell_type": "code",
      "source": [
        "# unique\n",
        "\n",
        "e = np.array([1,1,1,1,1,1,1,2,2,2,2,3,4,5,6,7,8])\n",
        "np.unique(e)"
      ],
      "metadata": {
        "id": "HB0Wil8LuxwY",
        "outputId": "6e0249e8-c26f-4adf-d34f-3835e0df915c",
        "colab": {
          "base_uri": "https://localhost:8080/"
        }
      },
      "execution_count": 14,
      "outputs": [
        {
          "output_type": "execute_result",
          "data": {
            "text/plain": [
              "array([1, 2, 3, 4, 5, 6, 7, 8])"
            ]
          },
          "metadata": {},
          "execution_count": 14
        }
      ]
    },
    {
      "cell_type": "code",
      "source": [
        "# expand dims\n",
        "\n",
        "np.expand_dims(a,axis=0) # col\n",
        "a.shape\n",
        "np.expand_dims(a,axis=1).shape # row"
      ],
      "metadata": {
        "id": "LtZVnjiTvB8j",
        "outputId": "f7780bb0-1862-4fdb-c918-237d0260275b",
        "colab": {
          "base_uri": "https://localhost:8080/"
        }
      },
      "execution_count": 19,
      "outputs": [
        {
          "output_type": "execute_result",
          "data": {
            "text/plain": [
              "(15, 1)"
            ]
          },
          "metadata": {},
          "execution_count": 19
        }
      ]
    },
    {
      "cell_type": "markdown",
      "source": [
        "The numpy.where() function returns the indices of elements in an input array where the given condition is satisfied."
      ],
      "metadata": {
        "id": "92h-r1eKwVFm"
      }
    },
    {
      "cell_type": "code",
      "source": [
        "# np.where\n",
        "\n",
        "# find all indices with value greater than 50\n",
        "\n",
        "a\n",
        "np.where(a > 50)"
      ],
      "metadata": {
        "id": "h6LJB_-DvexK",
        "outputId": "4d09aff9-2c15-4e53-937e-bb9e4e7e7d66",
        "colab": {
          "base_uri": "https://localhost:8080/"
        }
      },
      "execution_count": 22,
      "outputs": [
        {
          "output_type": "execute_result",
          "data": {
            "text/plain": [
              "(array([ 2,  4,  7,  8,  9, 12, 13, 14]),)"
            ]
          },
          "metadata": {},
          "execution_count": 22
        }
      ]
    },
    {
      "cell_type": "code",
      "source": [
        "# replace all valuess greater than 50 with 0\n",
        "np.where(a > 50, 0 , a)\n"
      ],
      "metadata": {
        "id": "aYefTnhNwV75",
        "outputId": "3e058103-ae18-494f-c587-601e047f3002",
        "colab": {
          "base_uri": "https://localhost:8080/"
        }
      },
      "execution_count": 23,
      "outputs": [
        {
          "output_type": "execute_result",
          "data": {
            "text/plain": [
              "array([40, 16,  0, 49,  0, 13, 34,  0,  0,  0, 35, 22,  0,  0,  0])"
            ]
          },
          "metadata": {},
          "execution_count": 23
        }
      ]
    },
    {
      "cell_type": "code",
      "source": [
        "np.where(a % 2 == 0 , 0 , a)"
      ],
      "metadata": {
        "id": "lLyUazxvwv6K",
        "outputId": "946230d5-2773-4683-a991-52af3fa1c6eb",
        "colab": {
          "base_uri": "https://localhost:8080/"
        }
      },
      "execution_count": 25,
      "outputs": [
        {
          "output_type": "execute_result",
          "data": {
            "text/plain": [
              "array([ 0,  0,  0, 49, 79, 13,  0, 83,  0, 55, 35,  0, 95,  0, 91])"
            ]
          },
          "metadata": {},
          "execution_count": 25
        }
      ]
    },
    {
      "cell_type": "markdown",
      "source": [
        "The numpy.argmax() function returns indices of the max element of the array in a particular axis."
      ],
      "metadata": {
        "id": "WJpmwBOKxH2Q"
      }
    },
    {
      "cell_type": "code",
      "source": [
        "# ARGMAX\n",
        "a"
      ],
      "metadata": {
        "id": "alSE6yZww5-2",
        "outputId": "1fd59685-d501-455a-c9b3-9becf0797be7",
        "colab": {
          "base_uri": "https://localhost:8080/"
        }
      },
      "execution_count": 26,
      "outputs": [
        {
          "output_type": "execute_result",
          "data": {
            "text/plain": [
              "array([40, 16, 54, 49, 79, 13, 34, 83, 82, 55, 35, 22, 95, 98, 91])"
            ]
          },
          "metadata": {},
          "execution_count": 26
        }
      ]
    },
    {
      "cell_type": "code",
      "source": [
        "np.argmax(a)"
      ],
      "metadata": {
        "id": "wmpe1xFoxIbF",
        "outputId": "1ac13757-8ae6-4f94-a2ff-9c578c4ba321",
        "colab": {
          "base_uri": "https://localhost:8080/"
        }
      },
      "execution_count": 27,
      "outputs": [
        {
          "output_type": "execute_result",
          "data": {
            "text/plain": [
              "13"
            ]
          },
          "metadata": {},
          "execution_count": 27
        }
      ]
    },
    {
      "cell_type": "code",
      "source": [
        "b\n",
        "np.argmax(b,axis=0)"
      ],
      "metadata": {
        "id": "KRqZwpAkxPr-",
        "outputId": "ade05312-ae8a-447d-a3d7-f79df49837a0",
        "colab": {
          "base_uri": "https://localhost:8080/"
        }
      },
      "execution_count": 31,
      "outputs": [
        {
          "output_type": "execute_result",
          "data": {
            "text/plain": [
              "array([2, 0, 0, 2])"
            ]
          },
          "metadata": {},
          "execution_count": 31
        }
      ]
    },
    {
      "cell_type": "code",
      "source": [
        "# argmin\n",
        "\n",
        "np.argmin(a)"
      ],
      "metadata": {
        "id": "8cvCH4_uxX_D",
        "outputId": "819abb2b-751a-4a25-9315-a0059a3277ca",
        "colab": {
          "base_uri": "https://localhost:8080/"
        }
      },
      "execution_count": 32,
      "outputs": [
        {
          "output_type": "execute_result",
          "data": {
            "text/plain": [
              "5"
            ]
          },
          "metadata": {},
          "execution_count": 32
        }
      ]
    },
    {
      "cell_type": "code",
      "source": [
        "# cumsum\n",
        "# cumulative sum"
      ],
      "metadata": {
        "id": "geSz4Gu5xqo6"
      },
      "execution_count": 33,
      "outputs": []
    },
    {
      "cell_type": "markdown",
      "source": [
        "numpy.cumsum() function is used when we want to compute the cumulative sum of array elements over a given axis."
      ],
      "metadata": {
        "id": "s1IzbQz60yQV"
      }
    },
    {
      "cell_type": "code",
      "source": [
        "a"
      ],
      "metadata": {
        "id": "M2ykj6Ts0z5X",
        "outputId": "bf8a12da-9fda-4eda-c279-273d9ccfd179",
        "colab": {
          "base_uri": "https://localhost:8080/"
        }
      },
      "execution_count": 34,
      "outputs": [
        {
          "output_type": "execute_result",
          "data": {
            "text/plain": [
              "array([40, 16, 54, 49, 79, 13, 34, 83, 82, 55, 35, 22, 95, 98, 91])"
            ]
          },
          "metadata": {},
          "execution_count": 34
        }
      ]
    },
    {
      "cell_type": "code",
      "source": [
        "np.cumsum(a)"
      ],
      "metadata": {
        "id": "iq0yQ3W_1F3j",
        "outputId": "a8801a3e-de9e-473a-c259-c106d288959c",
        "colab": {
          "base_uri": "https://localhost:8080/"
        }
      },
      "execution_count": 35,
      "outputs": [
        {
          "output_type": "execute_result",
          "data": {
            "text/plain": [
              "array([ 40,  56, 110, 159, 238, 251, 285, 368, 450, 505, 540, 562, 657,\n",
              "       755, 846])"
            ]
          },
          "metadata": {},
          "execution_count": 35
        }
      ]
    },
    {
      "cell_type": "code",
      "source": [
        "np.cumsum(b) # if axis not provided 2d converteed to 1d"
      ],
      "metadata": {
        "id": "zIeAUbtK1Ist",
        "outputId": "a0ab5baa-d7a8-4eca-fae1-22c4c74a9fff",
        "colab": {
          "base_uri": "https://localhost:8080/"
        }
      },
      "execution_count": 36,
      "outputs": [
        {
          "output_type": "execute_result",
          "data": {
            "text/plain": [
              "array([  10,  104,  203,  293,  317,  370,  409,  417,  511,  555,  633,\n",
              "        725,  804,  878,  960,  978,  983, 1001, 1070, 1140, 1217, 1221,\n",
              "       1312, 1321])"
            ]
          },
          "metadata": {},
          "execution_count": 36
        }
      ]
    },
    {
      "cell_type": "code",
      "source": [
        "np.cumsum(b,axis=0)"
      ],
      "metadata": {
        "id": "ZhwPHIS01TR3",
        "outputId": "1054d964-28d5-499a-c575-379de5121854",
        "colab": {
          "base_uri": "https://localhost:8080/"
        }
      },
      "execution_count": 37,
      "outputs": [
        {
          "output_type": "execute_result",
          "data": {
            "text/plain": [
              "array([[ 10,  94,  99,  90],\n",
              "       [ 34, 147, 138,  98],\n",
              "       [128, 191, 216, 190],\n",
              "       [207, 265, 298, 208],\n",
              "       [212, 283, 367, 278],\n",
              "       [289, 287, 458, 287]])"
            ]
          },
          "metadata": {},
          "execution_count": 37
        }
      ]
    },
    {
      "cell_type": "code",
      "source": [
        "np.cumsum(b,axis=1)"
      ],
      "metadata": {
        "id": "7mluf6ME1XDD",
        "outputId": "6813f946-7a87-409c-a132-93b66e6c05dc",
        "colab": {
          "base_uri": "https://localhost:8080/"
        }
      },
      "execution_count": 38,
      "outputs": [
        {
          "output_type": "execute_result",
          "data": {
            "text/plain": [
              "array([[ 10, 104, 203, 293],\n",
              "       [ 24,  77, 116, 124],\n",
              "       [ 94, 138, 216, 308],\n",
              "       [ 79, 153, 235, 253],\n",
              "       [  5,  23,  92, 162],\n",
              "       [ 77,  81, 172, 181]])"
            ]
          },
          "metadata": {},
          "execution_count": 38
        }
      ]
    },
    {
      "cell_type": "code",
      "source": [
        "# cumprod\n",
        "\n",
        "np.cumprod(a)"
      ],
      "metadata": {
        "id": "WzdxiHuN1Z2M",
        "outputId": "95ac4646-fd93-4786-a0b6-6c6b24187d00",
        "colab": {
          "base_uri": "https://localhost:8080/"
        }
      },
      "execution_count": 39,
      "outputs": [
        {
          "output_type": "execute_result",
          "data": {
            "text/plain": [
              "array([                  40,                  640,                34560,\n",
              "                    1693440,            133781760,           1739162880,\n",
              "                59131537920,        4907917647360,      402449247083520,\n",
              "          22134708589593600,   774714800635776000, -1403018459722479616,\n",
              "       -4159545157668702208, -1807055829922680832,  1578616140422008832])"
            ]
          },
          "metadata": {},
          "execution_count": 39
        }
      ]
    },
    {
      "cell_type": "code",
      "source": [
        "# percentile"
      ],
      "metadata": {
        "id": "XKjxPNzS1lNd"
      },
      "execution_count": 41,
      "outputs": []
    },
    {
      "cell_type": "markdown",
      "source": [
        "numpy.percentile()function used to compute the nth percentile of the given data (array elements) along the specified axis"
      ],
      "metadata": {
        "id": "VNuXHTMb11k_"
      }
    },
    {
      "cell_type": "code",
      "source": [
        "a"
      ],
      "metadata": {
        "id": "CRvR5Eg112P6",
        "outputId": "63f1f752-f47c-4e32-c54d-5ab9251f81fc",
        "colab": {
          "base_uri": "https://localhost:8080/"
        }
      },
      "execution_count": 42,
      "outputs": [
        {
          "output_type": "execute_result",
          "data": {
            "text/plain": [
              "array([40, 16, 54, 49, 79, 13, 34, 83, 82, 55, 35, 22, 95, 98, 91])"
            ]
          },
          "metadata": {},
          "execution_count": 42
        }
      ]
    },
    {
      "cell_type": "code",
      "source": [
        "np.percentile(a,100)"
      ],
      "metadata": {
        "id": "pmT9ri0l1_w0",
        "outputId": "b8e93383-7c50-4a4a-f0ef-2aaf9c929b7b",
        "colab": {
          "base_uri": "https://localhost:8080/"
        }
      },
      "execution_count": 43,
      "outputs": [
        {
          "output_type": "execute_result",
          "data": {
            "text/plain": [
              "98.0"
            ]
          },
          "metadata": {},
          "execution_count": 43
        }
      ]
    },
    {
      "cell_type": "code",
      "source": [
        "np.percentile(a,0)\n",
        "np.percentile(a,50) # 50 -> same as median\n",
        "np.median(a)"
      ],
      "metadata": {
        "id": "jExV6DVi2DFP",
        "outputId": "e3a56a03-3f9e-4898-ec67-84df45c28276",
        "colab": {
          "base_uri": "https://localhost:8080/"
        }
      },
      "execution_count": 46,
      "outputs": [
        {
          "output_type": "execute_result",
          "data": {
            "text/plain": [
              "54.0"
            ]
          },
          "metadata": {},
          "execution_count": 46
        }
      ]
    },
    {
      "cell_type": "code",
      "source": [
        "# histogram"
      ],
      "metadata": {
        "id": "TDXC5vtd2Hvd"
      },
      "execution_count": null,
      "outputs": []
    },
    {
      "cell_type": "markdown",
      "source": [
        "Numpy has a built-in numpy.histogram() function which represents the frequency of data distribution in the graphical form."
      ],
      "metadata": {
        "id": "iwo8LwGo2gv2"
      }
    },
    {
      "cell_type": "code",
      "source": [
        "np.histogram(a,bins=[0,10,20,30,40,50,60,70,80,90,100])"
      ],
      "metadata": {
        "id": "zLx8Iikl2hIm",
        "outputId": "141c27bf-328b-4c3c-8136-e5f7f7f3706d",
        "colab": {
          "base_uri": "https://localhost:8080/"
        }
      },
      "execution_count": 47,
      "outputs": [
        {
          "output_type": "execute_result",
          "data": {
            "text/plain": [
              "(array([0, 2, 1, 2, 2, 2, 0, 1, 2, 3]),\n",
              " array([  0,  10,  20,  30,  40,  50,  60,  70,  80,  90, 100]))"
            ]
          },
          "metadata": {},
          "execution_count": 47
        }
      ]
    },
    {
      "cell_type": "code",
      "source": [],
      "metadata": {
        "id": "wt7G9Kma2xy7"
      },
      "execution_count": null,
      "outputs": []
    }
  ],
  "metadata": {
    "colab": {
      "name": "Welcome to Colaboratory",
      "provenance": [],
      "include_colab_link": true
    },
    "kernelspec": {
      "display_name": "Python 3",
      "name": "python3"
    }
  },
  "nbformat": 4,
  "nbformat_minor": 0
}